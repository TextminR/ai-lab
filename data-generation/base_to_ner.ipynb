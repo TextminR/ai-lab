{
 "cells": [
  {
   "cell_type": "code",
   "execution_count": null,
   "metadata": {},
   "outputs": [],
   "source": [
    "from datasets import load_dataset"
   ]
  },
  {
   "cell_type": "code",
   "execution_count": null,
   "metadata": {},
   "outputs": [],
   "source": [
    "dataset = load_dataset('textminr/ner_extended')"
   ]
  },
  {
   "cell_type": "code",
   "execution_count": null,
   "metadata": {},
   "outputs": [],
   "source": [
    "import nltk\n",
    "from nltk.tokenize import word_tokenize\n",
    "nltk.download('punkt', quiet=True)\n",
    "import json\n",
    "\n",
    "ner_tag_to_id = {\n",
    "  'O': 0,\n",
    "  'AUTHOR': 1,\n",
    "  'DATE': 2\n",
    "}\n",
    "\n",
    "def convert_row(row):\n",
    "  prompt = row['prompt']\n",
    "  response = json.loads(row['response'])\n",
    "  author = word_tokenize(response['author'])\n",
    "  date = response['date']\n",
    "\n",
    "  tokens = word_tokenize(prompt)\n",
    "  ner_ids = []\n",
    "  ner_tags = []\n",
    "\n",
    "  for token in tokens:\n",
    "    if token in author:\n",
    "      ner_ids.append(ner_tag_to_id['AUTHOR'])\n",
    "      ner_tags.append('AUTHOR')\n",
    "    elif token in date:\n",
    "      ner_ids.append(ner_tag_to_id['DATE'])\n",
    "      ner_tags.append('DATE')\n",
    "    else:\n",
    "      ner_ids.append(ner_tag_to_id['O'])\n",
    "      ner_tags.append('O')\n",
    "\n",
    "  row['tokens'] = tokens\n",
    "  row['ner_ids'] = ner_ids\n",
    "  row['ner_tags'] = ner_tags\n",
    "  \n",
    "  return row\n",
    "\n",
    "dataset_tokenized = dataset.map(convert_row)\n",
    "dataset_tokenized = dataset_tokenized.remove_columns(['prompt', 'response'])"
   ]
  },
  {
   "cell_type": "code",
   "execution_count": null,
   "metadata": {},
   "outputs": [],
   "source": [
    "dataset_tokenized['train'][1]"
   ]
  },
  {
   "cell_type": "code",
   "execution_count": null,
   "metadata": {},
   "outputs": [],
   "source": [
    "dataset_tokenized.push_to_hub('textminr/ner_tokenized')"
   ]
  },
  {
   "cell_type": "code",
   "execution_count": null,
   "metadata": {},
   "outputs": [],
   "source": []
  }
 ],
 "metadata": {
  "kernelspec": {
   "display_name": "ds",
   "language": "python",
   "name": "python3"
  },
  "language_info": {
   "codemirror_mode": {
    "name": "ipython",
    "version": 3
   },
   "file_extension": ".py",
   "mimetype": "text/x-python",
   "name": "python",
   "nbconvert_exporter": "python",
   "pygments_lexer": "ipython3",
   "version": "3.11.5"
  }
 },
 "nbformat": 4,
 "nbformat_minor": 2
}
