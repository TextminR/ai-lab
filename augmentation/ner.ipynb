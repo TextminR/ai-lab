{
 "cells": [
  {
   "cell_type": "code",
   "execution_count": 1,
   "metadata": {},
   "outputs": [],
   "source": [
    "import gensim.downloader as api\n",
    "from datasets import load_dataset\n",
    "import nltk\n",
    "from nltk.tag import pos_tag\n",
    "from nltk.corpus import stopwords\n",
    "from nltk.tokenize import word_tokenize\n",
    "\n",
    "import pandas as pd\n",
    "from langdetect import detect\n",
    "from tqdm import tqdm\n",
    "import itertools\n",
    "import json"
   ]
  },
  {
   "cell_type": "code",
   "execution_count": 2,
   "metadata": {},
   "outputs": [],
   "source": [
    "model = api.load('word2vec-google-news-300')\n",
    "#dataset = load_dataset('textminr/ner', split='train')\n",
    "dataset = load_dataset('json', data_files='data_new.jsonl', split='train')"
   ]
  },
  {
   "cell_type": "code",
   "execution_count": 3,
   "metadata": {},
   "outputs": [],
   "source": [
    "nltk.download('punkt', quiet=True)\n",
    "nltk.download('averaged_perceptron_tagger', quiet=True)\n",
    "nltk.download('stopwords', quiet=True)\n",
    "swords = stopwords.words('english')"
   ]
  },
  {
   "cell_type": "code",
   "execution_count": 4,
   "metadata": {},
   "outputs": [],
   "source": [
    "df = dataset.to_pandas()"
   ]
  },
  {
   "cell_type": "code",
   "execution_count": 5,
   "metadata": {},
   "outputs": [],
   "source": [
    "def generate_weighted_number():\n",
    "  import numpy as np\n",
    "  start_year, end_year = 1700, 2023\n",
    "\n",
    "  years = np.arange(start_year, end_year + 1)\n",
    "  \n",
    "  # lineare funktion; startet bei 1, endet bei 10\n",
    "  weights = np.linspace(1, 10, len(years))\n",
    "\n",
    "  # Werte werden normalisiert\n",
    "  weights /= weights.sum()\n",
    "\n",
    "  return np.random.choice(years, p=weights)"
   ]
  },
  {
   "cell_type": "code",
   "execution_count": 6,
   "metadata": {},
   "outputs": [
    {
     "name": "stderr",
     "output_type": "stream",
     "text": [
      "100%|██████████| 292/292 [00:02<00:00, 129.99it/s]\n"
     ]
    }
   ],
   "source": [
    "def name_date_augmentation(df):\n",
    "  new_df = pd.DataFrame(columns=['prompt', 'response'])\n",
    "  author_replacements = {}\n",
    "\n",
    "  from faker import Faker\n",
    "  fake = Faker()\n",
    "\n",
    "  import re\n",
    "  import spacy\n",
    "  nlp = spacy.load('en_core_web_md')\n",
    "\n",
    "  for i in tqdm(range(len(df))):\n",
    "    row = df.iloc[i]\n",
    "    prompt = row['prompt']\n",
    "    response = json.loads(row['response'])\n",
    "\n",
    "    doc = nlp(prompt)\n",
    "    for ent in doc.ents:\n",
    "      if ent.label_ == 'PERSON':\n",
    "        prompt = prompt.replace(ent.text, '{author}')\n",
    "\n",
    "        if ent.text not in author_replacements:\n",
    "          author_replacements[ent.text] = fake.name()\n",
    "        author = author_replacements[ent.text]\n",
    "\n",
    "    # author = fake.name()\n",
    "    # date = generate_weighted_number()\n",
    "\n",
    "    # new_prompt = re.sub(r'\\d{4}', '{date}', prompt)\n",
    "    # new_prompt = new_prompt.format(author = author, date = date)\n",
    "    new_prompt = prompt.format(author = author)\n",
    "\n",
    "    if response['author'] != 'N/A':\n",
    "      response['author'] = author\n",
    "    # if response['date'] != 'N/A':\n",
    "    #   response['date'] = date\n",
    "\n",
    "    new_df = pd.concat([new_df, pd.DataFrame(\n",
    "        [[new_prompt, json.dumps(response, default=str)]],\n",
    "        columns=['prompt', 'response']\n",
    "    )])\n",
    "\n",
    "  return new_df\n",
    "\n",
    "new_df = name_date_augmentation(df)"
   ]
  },
  {
   "cell_type": "code",
   "execution_count": 9,
   "metadata": {},
   "outputs": [
    {
     "name": "stderr",
     "output_type": "stream",
     "text": [
      "100%|██████████| 292/292 [01:59<00:00,  2.44it/s]\n"
     ]
    }
   ],
   "source": [
    "special_words = ['da']\n",
    "\n",
    "def base_augmentation(df):\n",
    "  new_df = pd.DataFrame(columns=['prompt', 'response'])\n",
    "  vocab = model.key_to_index\n",
    "\n",
    "  for i in tqdm(range(len(df))):\n",
    "    row = df.iloc[i]\n",
    "\n",
    "    if detect(row['prompt']) != 'en':\n",
    "      continue\n",
    "\n",
    "    prompt_tokenized = word_tokenize(row['prompt'])\n",
    "    prompt_tagged = pos_tag(prompt_tokenized)\n",
    "    prompt_cleaned = [word for word in prompt_tagged if word[1] in ('NN', 'NNS') and word[0] not in special_words]\n",
    "\n",
    "    words_to_replace = []\n",
    "    replace_list = []\n",
    "\n",
    "    for word in prompt_cleaned:\n",
    "      if word[0] not in vocab:\n",
    "        continue\n",
    "\n",
    "      ms = [word[0] for word in model.most_similar(word[0], topn=10)]\n",
    "      ms_tagged = pos_tag(ms)\n",
    "      ms_new = [\n",
    "        replacement[0] for replacement in ms_tagged \n",
    "        if replacement[1] == word[1] and\n",
    "        '_' not in replacement[0] and\n",
    "        word[0].lower() != replacement[0].lower() and\n",
    "        model.distance(word[0], replacement[0]) < 0.5\n",
    "      ]\n",
    "\n",
    "      words_to_replace.append(word[0])\n",
    "      ms_new.append(word[0])\n",
    "  \n",
    "      if len(ms_new) > 0:\n",
    "        replace_list.append(ms_new)\n",
    "\n",
    "    prompt_removed = row['prompt']\n",
    "    for word in words_to_replace:\n",
    "      prompt_removed = prompt_removed.replace(word, '{}')\n",
    "\n",
    "    replace_combinations = list(itertools.product(*replace_list))\n",
    "\n",
    "    for combination in replace_combinations:\n",
    "      new_df = pd.concat([new_df, pd.DataFrame(\n",
    "          [[prompt_removed.format(*combination), row['response']]],\n",
    "          columns=['prompt', 'response']\n",
    "      )])\n",
    "\n",
    " \n",
    "  return new_df\n",
    "\n",
    "new_df = base_augmentation(df)"
   ]
  },
  {
   "cell_type": "code",
   "execution_count": 10,
   "metadata": {},
   "outputs": [],
   "source": [
    "new_df = new_df.drop_duplicates().sample(frac=1).reset_index(drop=True)"
   ]
  },
  {
   "cell_type": "code",
   "execution_count": 11,
   "metadata": {},
   "outputs": [],
   "source": [
    "with open('data.jsonl', 'w+') as f:\n",
    "  new_df.to_json(f, orient='records', lines=True, force_ascii=False)"
   ]
  },
  {
   "cell_type": "code",
   "execution_count": null,
   "metadata": {},
   "outputs": [],
   "source": []
  }
 ],
 "metadata": {
  "kernelspec": {
   "display_name": "ds",
   "language": "python",
   "name": "python3"
  },
  "language_info": {
   "codemirror_mode": {
    "name": "ipython",
    "version": 3
   },
   "file_extension": ".py",
   "mimetype": "text/x-python",
   "name": "python",
   "nbconvert_exporter": "python",
   "pygments_lexer": "ipython3",
   "version": "3.11.5"
  }
 },
 "nbformat": 4,
 "nbformat_minor": 2
}
