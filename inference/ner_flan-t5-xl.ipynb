{
 "cells": [
  {
   "cell_type": "code",
   "execution_count": 1,
   "metadata": {},
   "outputs": [
    {
     "data": {
      "application/vnd.jupyter.widget-view+json": {
       "model_id": "c8b4309b21fa44848aed24665bfc9cfe",
       "version_major": 2,
       "version_minor": 0
      },
      "text/plain": [
       "Loading checkpoint shards:   0%|          | 0/2 [00:00<?, ?it/s]"
      ]
     },
     "metadata": {},
     "output_type": "display_data"
    }
   ],
   "source": [
    "import torch\n",
    "from transformers import AutoModelForSeq2SeqLM\n",
    "\n",
    "base_model_id = 'google/flan-t5-xl'\n",
    "base_model = AutoModelForSeq2SeqLM.from_pretrained(\n",
    "  base_model_id,\n",
    "  torch_dtype=torch.bfloat16,\n",
    "  load_in_8bit=True,\n",
    "  device_map='auto'\n",
    ")"
   ]
  },
  {
   "cell_type": "code",
   "execution_count": 2,
   "metadata": {},
   "outputs": [],
   "source": [
    "from transformers import AutoTokenizer\n",
    "tokenizer = AutoTokenizer.from_pretrained(base_model_id)"
   ]
  },
  {
   "cell_type": "code",
   "execution_count": 3,
   "metadata": {},
   "outputs": [
    {
     "data": {
      "application/vnd.jupyter.widget-view+json": {
       "model_id": "58337c6e038d45b39ad78af05aa139a8",
       "version_major": 2,
       "version_minor": 0
      },
      "text/plain": [
       "adapter_config.json:   0%|          | 0.00/545 [00:00<?, ?B/s]"
      ]
     },
     "metadata": {},
     "output_type": "display_data"
    },
    {
     "data": {
      "application/vnd.jupyter.widget-view+json": {
       "model_id": "b5ab3391bb014e7ab09a79d396db052c",
       "version_major": 2,
       "version_minor": 0
      },
      "text/plain": [
       "adapter_model.safetensors:   0%|          | 0.00/144M [00:00<?, ?B/s]"
      ]
     },
     "metadata": {},
     "output_type": "display_data"
    }
   ],
   "source": [
    "from peft import PeftModel\n",
    "model = PeftModel.from_pretrained(base_model, 'textminr/ner-flan-t5-xl')"
   ]
  },
  {
   "cell_type": "code",
   "execution_count": 25,
   "metadata": {},
   "outputs": [],
   "source": [
    "prompt_template = 'Input sentence: {words} --- Output:'\n",
    "# sentence = 'A comprehensive research paper from Benjamin Kissinger details seafaring advancements, published in 1605, is a very good analysis.'\n",
    "# sentence = \"In a comprehensive research paper titled 'The Future of Renewable Energy: Trends and Predictions', published in 2025 by Benjamin Kissinger, an in-depth analysis of emerging technologies in the field of sustainable energy is presented. This detailed study examines the latest advancements in solar, wind, and geothermal energy, and evaluates their potential impact on global energy consumption patterns. The paper also explores the economic and environmental implications of transitioning to renewable energy sources, including the challenges and opportunities for developing countries. Despite the exhaustive nature of the research and its implications for future energy policies, ....\"\n",
    "# sentence = \"In her comprehensive and deeply researched historical volume titled 'Empires in the Sands: The Ebb and Flow of Ancient Desert Civilizations', Dr. Helena Strauss, a renowned archaeologist and historian, delves into the rise and fall of civilizations that thrived in the harsh environments of the world's great deserts. This book, published in the spring of 2024, represents a culmination of over a decade of field research and scholarly analysis. Dr. Strauss meticulously reconstructs the socio-political and economic landscapes of these ancient societies, drawing from a vast array of sources, including archaeological excavations, ancient manuscripts, and cutting-edge remote sensing technologies. The first section of the book explores the ingenious adaptations and survival strategies developed by these civilizations to overcome the challenges posed by their arid surroundings, highlighting their agricultural innovations, water management techniques, and architectural marvels. The middle chapters provide an in-depth analysis of the trade networks established across the deserts, emphasizing how these routes facilitated not just the exchange of goods, but also the spread of ideas, religions, and cultures, profoundly influencing the broader course of human history. Dr. Strauss further examines the role of leadership and governance in these societies, from the centralized bureaucracies of the Egyptian pharaohs to the tribal confederations of the Berbers. In the latter part of the book, the focus shifts to the artistic and cultural achievements of these civilizations, showcasing their contributions to art, literature, and science, and how these continue to resonate in the modern world. The book concludes with a reflective discourse on the lessons that contemporary societies can learn from the successes and failures of these ancient desert civilizations, especially in the context of current environmental challenges and the looming threat of climate change. Dr. Strauss' work is not only a testament to the resilience and ingenuity of human societies in the face of adversity but also serves as a crucial reminder of the importance of preserving our cultural heritage and learning from the past.\"\n",
    "# sentence = \"In a comprehensive historical analysis titled 'Shadows and Light: The Dualistic Nature of the Industrial Revolution', a detailed exploration of the societal and technological transformations that occurred during this pivotal era is presented. The author, renowned for their expertise in European history, meticulously dissects the myriad ways in which the Industrial Revolution, spanning across the 19th century, reshaped the social fabric of the continent. This extensive work delves into the dichotomy of progress and disparity brought about by industrialization, examining how the advent of new machinery and mass production techniques led to unprecedented economic growth while simultaneously exacerbating class divisions and labor struggles. The study encompasses a wide array of topics, including the evolution of urban centers, the impact of the railway system on trade and mobility, and the profound changes in everyday life brought about by technological advancements. Additionally, the author scrutinizes the cultural and artistic responses to these changes, highlighting how literature, art, and philosophy of the time reflected the complex interplay between humanity and the mechanized world. The book also includes a critical analysis of the environmental consequences of industrial practices, shedding light on the early roots of the environmental movement. Despite its depth and breadth, the author's name is not mentioned anywhere in the manuscript, leaving their identity a subject of speculation among historians.\"\n",
    "# sentence = \"In a comprehensive research paper titled 'The Future of Renewable Energy: Trends and Predictions', published in 2025, an in-depth analysis of emerging technologies in the field of sustainable energy is presented. This detailed study examines the latest advancements in solar, wind, and geothermal energy, and evaluates their potential impact on global energy consumption patterns. The paper also explores the economic and environmental implications of transitioning to renewable energy sources, including the challenges and opportunities for developing countries. Despite the exhaustive nature of the research and its implications for future energy policies, the author's name is not mentioned in the document.\"\n",
    "# sentence = \"Berlin's Architecture', by Hans Becker in the 1800s, delves into postmodern design.\"\n",
    "sentence = \"The latest exhibition curated by Kelly Johnson, titled 'Evolving Paradigms: The Journey of Modern Education'. presents a fascinating exploration of contemporary educational systems, showcased in midwinter 2020. This exhibition, hosted at the renowned Global Education Center, delves into the transformation of educational methodologies from traditional to modern approaches. Johnson's work meticulously examines the shift from rote memorization to interactive and digital learning, emphasizing the impact of technological advancements on educational practices. The exhibition features interactive displays, historical educational artifacts, and a series of lectures and workshops led by prominent educators and scholars. It also critically analyzes the challenges and successes of integrating technology in classrooms across diverse socio-economic backgrounds. Furthermore, Johnson provides a comparative analysis of educational systems worldwide, highlighting innovative practices in various countries. She discusses the role of cultural influences in shaping educational policies and the growing importance of personalized learning experiences. The exhibition culminates in a forward-looking section, envisioning the future of education in an increasingly interconnected and digital world, with a focus on the potential of AI and VR in revolutionizing learning experiences.\""
   ]
  },
  {
   "cell_type": "code",
   "execution_count": 26,
   "metadata": {},
   "outputs": [],
   "source": [
    "prompt = prompt_template.format(words=sentence)"
   ]
  },
  {
   "cell_type": "code",
   "execution_count": 27,
   "metadata": {},
   "outputs": [
    {
     "name": "stderr",
     "output_type": "stream",
     "text": [
      "/home/asuender/miniconda3/envs/ds/lib/python3.11/site-packages/bitsandbytes/autograd/_functions.py:322: UserWarning: MatMul8bitLt: inputs will be cast from torch.bfloat16 to float16 during quantization\n",
      "  warnings.warn(f\"MatMul8bitLt: inputs will be cast from {A.dtype} to float16 during quantization\")\n"
     ]
    },
    {
     "name": "stdout",
     "output_type": "stream",
     "text": [
      "\"author\": \"Kelly Johnson\", \"date\": \"2020\"\n"
     ]
    }
   ],
   "source": [
    "model_input = tokenizer(prompt, return_tensors=\"pt\").to(\"cuda\")\n",
    "\n",
    "model.eval()\n",
    "with torch.no_grad():\n",
    "    print(tokenizer.decode(model.generate(**model_input, max_new_tokens=50)[0], skip_special_tokens=True))"
   ]
  },
  {
   "cell_type": "code",
   "execution_count": null,
   "metadata": {},
   "outputs": [],
   "source": []
  }
 ],
 "metadata": {
  "kernelspec": {
   "display_name": "ds",
   "language": "python",
   "name": "python3"
  },
  "language_info": {
   "codemirror_mode": {
    "name": "ipython",
    "version": 3
   },
   "file_extension": ".py",
   "mimetype": "text/x-python",
   "name": "python",
   "nbconvert_exporter": "python",
   "pygments_lexer": "ipython3",
   "version": "3.11.5"
  }
 },
 "nbformat": 4,
 "nbformat_minor": 2
}
