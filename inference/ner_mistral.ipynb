{
 "cells": [
  {
   "cell_type": "code",
   "execution_count": 1,
   "metadata": {},
   "outputs": [
    {
     "data": {
      "application/vnd.jupyter.widget-view+json": {
       "model_id": "5398c9d422ef44f7ad62a22ceff276cf",
       "version_major": 2,
       "version_minor": 0
      },
      "text/plain": [
       "Loading checkpoint shards:   0%|          | 0/2 [00:00<?, ?it/s]"
      ]
     },
     "metadata": {},
     "output_type": "display_data"
    }
   ],
   "source": [
    "import torch\n",
    "from transformers import AutoModelForCausalLM, BitsAndBytesConfig, AutoTokenizer\n",
    "\n",
    "base_model_id = \"mistralai/Mistral-7B-Instruct-v0.1\"\n",
    "bnb_config = BitsAndBytesConfig(\n",
    "  load_in_4bit=True,\n",
    "  bnb_4bit_use_double_quant=True,\n",
    "  bnb_4bit_quant_type=\"nf4\",\n",
    "  bnb_4bit_compute_dtype=torch.bfloat16\n",
    ")\n",
    "\n",
    "base_model = AutoModelForCausalLM.from_pretrained(\n",
    "  base_model_id,\n",
    "  quantization_config=bnb_config,\n",
    "  torch_dtype=torch.float16,\n",
    "  trust_remote_code=True,\n",
    "  device_map=\"auto\",\n",
    ")\n",
    "\n",
    "tokenizer = AutoTokenizer.from_pretrained(base_model_id, add_bos_token=True, trust_remote_code=True)"
   ]
  },
  {
   "cell_type": "code",
   "execution_count": 2,
   "metadata": {},
   "outputs": [],
   "source": [
    "from peft import PeftModel\n",
    "\n",
    "ft_model = PeftModel.from_pretrained(base_model, \"textminr/ner-mistral-7b\")\n",
    "# ft_model = PeftModel.from_pretrained(base_model, './models/mistral-7b-squad/checkpoint-2000/')"
   ]
  },
  {
   "cell_type": "code",
   "execution_count": 7,
   "metadata": {},
   "outputs": [],
   "source": [
    "prompt_template = 'Input sentence: {} --- Output:'\n",
    "\n",
    "sentence=\"In 2019, during a season of reflection, Daniel Robinson discovered 'Uncharted Realms,' authored by Benjamin Robinson in 2017. Sophia finally explored its realms in 2020. Benjamin's insights sparked a transformative journey for Sophia, shaping her perspectives and leading to the abandonment of previous pursuits.\"\n",
    "# {\"prompt\": \"In 2018, during a season of reflection, Sarah Thompson discovered 'Limitless Visions,' authored by Nathan Thompson in 2016. Daniel finally delved into its visions in 2019. Nathan's wisdom became a source of inspiration for Daniel, influencing his journey and prompting him to let go of former pastimes.\", \"response\": \"{\\\"author\\\": \\\"Sarah Thompson\\\", \\\"date\\\": \\\"2016\\\"}\"}\n",
    "# {\"prompt\": \"A scientific paper published in the fall of 2013 outlines breakthroughs in environmental science.\", \"response\": \"{\\\"author\\\": \\\"N/A\\\", \\\"date\\\": \\\"2013\\\"}\"}\n",
    "#{\"prompt\": \"Amidst the challenges of 2020, Matthew Simmons found encouragement in 'Serenity Unveiled,' penned by Emily Simmons in 2018. Sophia immersed herself in its pages in 2021. Emily's perspectives became a driving force for Sophia, shaping her goals and prompting her to let go of past hobbies.\", \"response\": \"{\\\"author\\\": \\\"Matthew Simmons\\\", \\\"date\\\": \\\"2018\\\"}\"}\n",
    "#{\"prompt\": \"In 2017, during a season of reflection, Laura Reynolds discovered 'Boundless Discoveries,' crafted by Jonathan Reynolds in 2015. Daniel finally explored its discoveries in 2018. Jonathan's abysses sparked a transformative journey for Daniel, influencing his exploration and leading to the abandonment of former pursuits.\", \"response\": \"{\\\"author\\\": \\\"Laura Reynolds\\\", \\\"date\\\": \\\"2015\\\"}\"}\n",
    "#{\"prompt\": \"A research article on sustainable agriculture, authored by Elizabeth Turner in 2016, discusses innovative practices.\", \"response\": \"{\\\"author\\\": \\\"Elizabeth Turner\\\", \\\"date\\\": \\\"2016\\\"}\"}\n",
    "#{\"prompt\": \"Amidst the challenges of 2018, Benjamin Harrison found encouragement in 'Harmony Within,' written by Emma Harrison in 2016. Sophia immersed herself in its pages in 2019. Emma's insights became a guiding force for Sophia, shaping her aspirations and prompting her to relinquish past interests.\", \"response\": \"{\\\"author\\\": \\\"Benjamin Harrison\\\", \\\"date\\\": \\\"2016\\\"}\"}\n",
    "#{\"prompt\": \"In 2016, during a period of introspection, Jessica Thompson discovered 'Limitless Visions,' authored by Nathan Thompson in 2014. Ethan finally delved into its visions in 2017. Nathan's wisdom became a source of inspiration for Ethan, influencing his journey and prompting him to let go of former pastimes.\", \"response\": \"{\\\"author\\\": \\\"Jessica Thompson\\\", \\\"date\\\": \\\"2014\\\"}\"}\n",
    "#{\"prompt\": \"A short story crafted on a rainy evening in 2010, reflecting on the beauty of simplicity.\", \"response\": \"{\\\"author\\\": \\\"N/A\\\", \\\"date\\\": \\\"2010\\\"}\"}\n",
    "#{\"prompt\": \"Amidst the challenges of 2023, Natalie Turner found encouragement in 'Serenity Unveiled,' penned by Emily Turner in 2021. James immersed himself in its pages in 2024. Emily's perspectives became a driving force for James, shaping his goals and prompting him to let go of past hobbies.\", \"response\": \"{\\\"author\\\": \\\"Natalie Turner\\\", \\\"date\\\": \\\"2021\\\"}\"}\n",
    "#{\"prompt\": \"In 2020, during a period of introspection, Samuel Bennett discovered 'Boundless Discoveries,' crafted by Jonathan Bennett in 2018. Olivia finally explored its discoveries in 2021. Jonathan's abysses sparked a transformative journey for Olivia, influencing her exploration and leading to the abandonment of former pursuits.\", \"response\": \"{\\\"author\\\": \\\"Samuel Bennett\\\", \\\"date\\\": \\\"2018\\\"}\"}\n",
    "#{\"prompt\": \"A research article on renewable energy, authored by Elizabeth Turner in 2018, discusses innovative technologies.\", \"response\": \"{\\\"author\\\": \\\"Elizabeth Turner\\\", \\\"date\\\": \\\"2018\\\"}\"}\n",
    "#{\"prompt\": \"Amidst the challenges of 2022, Lucas Harrison found encouragement in 'Harmony Within,' penned by Emma Harrison in 2020. Sophia immersed herself in its pages in 2023. Emma's insights became a guiding force for Sophia, shaping her aspirations and prompting her to relinquish past interests.\", \"response\": \"{\\\"author\\\": \\\"Lucas Harrison\\\", \\\"date\\\": \\\"2020\\\"}\"}\n",
    "#{\"prompt\": \"In 2019, during a season of reflection, Daniel Robinson discovered 'Uncharted Realms,' authored by Benjamin Robinson in 2017. Sophia finally explored its realms in 2020. Benjamin's insights sparked a transformative journey for Sophia, shaping her perspectives and leading to the abandonment of previous pursuits.\", \"response\": \"{\\\"author\\\": \\\"Daniel Robinson\\\", \\\"date\\\": \\\"2017\\\"}\"}\n",
    "#{\"prompt\": \"A short story crafted on a winter evening in 2015, reflecting on the joy of childhood.\", \"response\": \"{\\\"author\\\": \\\"N/A\\\", \\\"date\\\": \\\"2015\\\"}\"}\n",
    "#{\"prompt\": \"Amidst the challenges of 2021, Abigail Turner found encouragement in 'Serenity Unveiled,' written by Emily Turner in 2019. James immersed himself in its pages in 2022. Emily's perspectives became a driving force for James, shaping his goals and prompting him to let go of past hobbies.\", \"response\": \"{\\\"author\\\": \\\"Abigail Turner\\\", \\\"date\\\": \\\"2019\\\"}\"}\n"
   ]
  },
  {
   "cell_type": "code",
   "execution_count": 8,
   "metadata": {},
   "outputs": [
    {
     "name": "stderr",
     "output_type": "stream",
     "text": [
      "Setting `pad_token_id` to `eos_token_id`:2 for open-end generation.\n"
     ]
    },
    {
     "name": "stdout",
     "output_type": "stream",
     "text": [
      "Input sentence: In 2019, during a season of reflection, Daniel Robinson discovered 'Uncharted Realms,' authored by Benjamin Robinson in 2017. Sophia finally explored its realms in 2020. Benjamin's insights sparked a transformative journey for Sophia, shaping her perspectives and leading to the abandonment of previous pursuits. --- Output: {\"author\": \"Daniel Robinson\", \"date\": \"2019\"}\n"
     ]
    }
   ],
   "source": [
    "# eval_prompt = \"### Question: In their groundbreaking 2020 study on climate change impacts, Smith and Jones (2020) highlight the urgent need for sustainable practices.\\n### Answer:\"\n",
    "model_input = tokenizer(prompt_template.format(sentence), return_tensors=\"pt\").to(\"cuda\")\n",
    "\n",
    "ft_model.eval()\n",
    "with torch.no_grad():\n",
    "    print(tokenizer.decode(ft_model.generate(**model_input, max_new_tokens=200)[0], skip_special_tokens=True))"
   ]
  },
  {
   "cell_type": "code",
   "execution_count": null,
   "metadata": {},
   "outputs": [],
   "source": []
  }
 ],
 "metadata": {
  "kernelspec": {
   "display_name": "ds",
   "language": "python",
   "name": "python3"
  },
  "language_info": {
   "codemirror_mode": {
    "name": "ipython",
    "version": 3
   },
   "file_extension": ".py",
   "mimetype": "text/x-python",
   "name": "python",
   "nbconvert_exporter": "python",
   "pygments_lexer": "ipython3",
   "version": "3.11.5"
  }
 },
 "nbformat": 4,
 "nbformat_minor": 2
}
