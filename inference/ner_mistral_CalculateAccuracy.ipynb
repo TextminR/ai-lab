{
 "cells": [
  {
   "cell_type": "markdown",
   "metadata": {},
   "source": [
    "# Calculate Accuracy for Mistral/textminr_ner\n",
    "by Andreas Sünder & Benjamin Kissinger"
   ]
  },
  {
   "cell_type": "markdown",
   "metadata": {},
   "source": [
    "## Load the Base Model"
   ]
  },
  {
   "cell_type": "code",
   "execution_count": 1,
   "metadata": {},
   "outputs": [
    {
     "data": {
      "application/vnd.jupyter.widget-view+json": {
       "model_id": "21329cabc38243cca8e6169f42988bfa",
       "version_major": 2,
       "version_minor": 0
      },
      "text/plain": [
       "Loading checkpoint shards:   0%|          | 0/2 [00:00<?, ?it/s]"
      ]
     },
     "metadata": {},
     "output_type": "display_data"
    }
   ],
   "source": [
    "import torch\n",
    "from transformers import AutoTokenizer, AutoModelForCausalLM, BitsAndBytesConfig\n",
    "\n",
    "base_model_id = \"mistralai/Mistral-7B-Instruct-v0.1\"\n",
    "bnb_config = BitsAndBytesConfig(\n",
    "    load_in_4bit=True,\n",
    "    bnb_4bit_use_double_quant=True,\n",
    "    bnb_4bit_quant_type=\"nf4\",\n",
    "    bnb_4bit_compute_dtype=torch.bfloat16\n",
    ")\n",
    "\n",
    "base_model = AutoModelForCausalLM.from_pretrained(\n",
    "    base_model_id,  # Mistral, same as before\n",
    "    quantization_config=bnb_config,  # Same quantization config as before\n",
    "    torch_dtype=torch.float16,\n",
    "    device_map=\"auto\",\n",
    "    trust_remote_code=True\n",
    ")\n",
    "\n",
    "tokenizer = AutoTokenizer.from_pretrained(base_model_id, add_bos_token=True, trust_remote_code=True)"
   ]
  },
  {
   "cell_type": "markdown",
   "metadata": {},
   "source": [
    "## Load Finetuned Model"
   ]
  },
  {
   "cell_type": "code",
   "execution_count": 2,
   "metadata": {},
   "outputs": [],
   "source": [
    "from peft import PeftModel\n",
    "ft_model = PeftModel.from_pretrained(base_model, \"textminr/ner-mistral-7b\")"
   ]
  },
  {
   "cell_type": "markdown",
   "metadata": {},
   "source": [
    "## Load Dataset"
   ]
  },
  {
   "cell_type": "code",
   "execution_count": 12,
   "metadata": {},
   "outputs": [
    {
     "data": {
      "application/vnd.jupyter.widget-view+json": {
       "model_id": "d981f87a4fc04226ad198ac996305b08",
       "version_major": 2,
       "version_minor": 0
      },
      "text/plain": [
       "Downloading data files:   0%|          | 0/1 [00:00<?, ?it/s]"
      ]
     },
     "metadata": {},
     "output_type": "display_data"
    },
    {
     "data": {
      "application/vnd.jupyter.widget-view+json": {
       "model_id": "27c813ff99a347c4a1d1b40a5af7b6a7",
       "version_major": 2,
       "version_minor": 0
      },
      "text/plain": [
       "Extracting data files:   0%|          | 0/1 [00:00<?, ?it/s]"
      ]
     },
     "metadata": {},
     "output_type": "display_data"
    },
    {
     "data": {
      "application/vnd.jupyter.widget-view+json": {
       "model_id": "ca90a14275d64c98824b00fad4818b1c",
       "version_major": 2,
       "version_minor": 0
      },
      "text/plain": [
       "Generating train split: 0 examples [00:00, ? examples/s]"
      ]
     },
     "metadata": {},
     "output_type": "display_data"
    }
   ],
   "source": [
    "from datasets import load_dataset\n",
    "dataset = load_dataset('json', data_files=\"../augmentation/data/test.jsonl\", split='train')\n",
    "amount_examples = dataset.num_rows\n",
    "amount_correct = 0"
   ]
  },
  {
   "cell_type": "markdown",
   "metadata": {},
   "source": [
    "## Calculate Accuracy"
   ]
  },
  {
   "cell_type": "code",
   "execution_count": 13,
   "metadata": {},
   "outputs": [
    {
     "name": "stderr",
     "output_type": "stream",
     "text": [
      "  0%|          | 0/52 [00:00<?, ?it/s]Setting `pad_token_id` to `eos_token_id`:2 for open-end generation.\n",
      "  2%|▏         | 1/52 [00:01<01:28,  1.73s/it]Setting `pad_token_id` to `eos_token_id`:2 for open-end generation.\n"
     ]
    },
    {
     "name": "stdout",
     "output_type": "stream",
     "text": [
      "Correct:  {\"author\": \"Isabella Thompson\", \"date\": \"2015\"} Input sentence: Exploring the wonders of ancient civilizations, 'Timeless Echoes' by Isabella Thompson took center stage in Robert's life in the year 2015.Exploring the wonders of ancient civilizations, 'Timeless Echoes' by Isabella Thompson took center stage in Robert's life in the year 2015. --- Output: {\"author\": \"Isabella Thompson\", \"date\": \"2015\"}\n"
     ]
    },
    {
     "name": "stderr",
     "output_type": "stream",
     "text": [
      "  4%|▍         | 2/52 [00:03<01:26,  1.74s/it]Setting `pad_token_id` to `eos_token_id`:2 for open-end generation.\n"
     ]
    },
    {
     "name": "stdout",
     "output_type": "stream",
     "text": [
      "Correct:  {\"author\": \"Luna Starlight\", \"date\": \"2020\"} Input sentence: Amidst the cosmic ballet, Astral Voyager Orion, captivated by 'Celestial Harmonies' penned by Luna Starlight in the year 2020, embarks on an interstellar odyssey. --- Output: {\"author\": \"Luna Starlight\", \"date\": \"2020\"}\n"
     ]
    },
    {
     "name": "stderr",
     "output_type": "stream",
     "text": [
      "  6%|▌         | 3/52 [00:05<01:20,  1.65s/it]Setting `pad_token_id` to `eos_token_id`:2 for open-end generation.\n"
     ]
    },
    {
     "name": "stdout",
     "output_type": "stream",
     "text": [
      "Incorrect:  {\"author\": \"Sophia da Vinci\", \"date\": \"1498\"} Input sentence: In the midst of the Renaissance, Artisan Leonardo delved into the artistic musings of 'Brushstrokes of Eternity,' a masterpiece by Sophia da Vinci in the year 1498. --- Output: {\"author\": \"Leonardo\", \"date\": \"1498\"}\n"
     ]
    },
    {
     "name": "stderr",
     "output_type": "stream",
     "text": [
      "  8%|▊         | 4/52 [00:06<01:18,  1.63s/it]Setting `pad_token_id` to `eos_token_id`:2 for open-end generation.\n"
     ]
    },
    {
     "name": "stdout",
     "output_type": "stream",
     "text": [
      "Incorrect:  {\"author\": \"Quinn Emerson\", \"date\": \"2019\"} Input sentence: As the autumn leaves danced, Literary Enthusiast Harper unfolded the mysteries of 'Whispers in the Pages' by Quinn Emerson, written in the fall of 2019. --- Output: {\"author\": \"Harper\", \"date\": \"2019\"}\n"
     ]
    },
    {
     "name": "stderr",
     "output_type": "stream",
     "text": [
      " 10%|▉         | 5/52 [00:08<01:19,  1.69s/it]Setting `pad_token_id` to `eos_token_id`:2 for open-end generation.\n"
     ]
    },
    {
     "name": "stdout",
     "output_type": "stream",
     "text": [
      "Incorrect:  {\"author\": \"Nova Cybera\", \"date\": \"1800\"} Input sentence: Beneath the neon glow of the cyberpunk city, Tech Pioneer Axel absorbed the insights of 'Digital Utopia,' authored by Nova Cybera in the 19th century. --- Output: {\"author\": \"Nova Cybera\", \"date\": \"19th century\"}\n"
     ]
    },
    {
     "name": "stderr",
     "output_type": "stream",
     "text": [
      " 12%|█▏        | 6/52 [00:09<01:15,  1.64s/it]Setting `pad_token_id` to `eos_token_id`:2 for open-end generation.\n"
     ]
    },
    {
     "name": "stdout",
     "output_type": "stream",
     "text": [
      "Incorrect:  {\"author\": \"Marcus Aurelius\", \"date\": \"N/A\"} Input sentence: Within the tapestry of historical discourse, Scholar Claudia engaged with 'Chronicles of Antiquity' by Marcus Aurelius, an ancient manuscript dating back to the 2nd century AD. --- Output: {\"author\": \"Claudia\", \"date\": \"2nd century\"}\n"
     ]
    },
    {
     "name": "stderr",
     "output_type": "stream",
     "text": [
      " 13%|█▎        | 7/52 [00:11<01:15,  1.69s/it]Setting `pad_token_id` to `eos_token_id`:2 for open-end generation.\n"
     ]
    },
    {
     "name": "stdout",
     "output_type": "stream",
     "text": [
      "Correct:  {\"author\": \"Liberty Sentinel\", \"date\": \"2020\"} Input sentence: Navigating the labyrinth of political ideologies, Statesman Xavier found resonance in 'Political Paradox' written by Liberty Sentinel in the tumultuous year of 2020. --- Output: {\"author\": \"Liberty Sentinel\", \"date\": \"2020\"}\n"
     ]
    },
    {
     "name": "stderr",
     "output_type": "stream",
     "text": [
      " 15%|█▌        | 8/52 [00:16<01:58,  2.68s/it]Setting `pad_token_id` to `eos_token_id`:2 for open-end generation.\n"
     ]
    },
    {
     "name": "stdout",
     "output_type": "stream",
     "text": [
      "Incorrect:  {\"author\": \"Lotus Sage\", \"date\": \"N/A\"} Input sentence: Basking in the glow of enlightenment, Seeker Aria uncovered the spiritual revelations within 'Zen Reflections' by Lotus Sage, a timeless work from the Zen era. --- Output: {\"author\": \"Seeker Aria\", \"date\": \"N/A\", \"content\": \"Basking in the glow of enlightenment, Aria uncovered the spiritual revelations within 'Zen Reflections' by Sage, a timeless work from the Zen era.\"}\n"
     ]
    },
    {
     "name": "stderr",
     "output_type": "stream",
     "text": [
      " 17%|█▋        | 9/52 [00:18<01:40,  2.33s/it]Setting `pad_token_id` to `eos_token_id`:2 for open-end generation.\n"
     ]
    },
    {
     "name": "stdout",
     "output_type": "stream",
     "text": [
      "Incorrect:  {\"author\": \"Ada Lovelace\", \"date\": \"1843\"} Input sentence: In the heart of the scientific revolution, Inventor Nikola delved into the principles of 'Innovations Unveiled' by Ada Lovelace, a groundbreaking manuscript from the year 1843. --- Output: {\"author\": \"Nikola\", \"date\": \"1843\"}\n"
     ]
    },
    {
     "name": "stderr",
     "output_type": "stream",
     "text": [
      " 19%|█▉        | 10/52 [00:19<01:30,  2.15s/it]Setting `pad_token_id` to `eos_token_id`:2 for open-end generation.\n"
     ]
    },
    {
     "name": "stdout",
     "output_type": "stream",
     "text": [
      "Incorrect:  {\"author\": \"Celeste Nightshade\", \"date\": \"1776\"} Input sentence: As the midnight oil burned, Poet Seraphina composed verses inspired by 'Moonlit Sonnets' penned by Celeste Nightshade in the moonlit year of 1776. --- Output: {\"author\": \"Poet Seraphina\", \"date\": \"1776\"}\n"
     ]
    },
    {
     "name": "stderr",
     "output_type": "stream",
     "text": [
      " 21%|██        | 11/52 [00:21<01:23,  2.05s/it]Setting `pad_token_id` to `eos_token_id`:2 for open-end generation.\n"
     ]
    },
    {
     "name": "stdout",
     "output_type": "stream",
     "text": [
      "Incorrect:  {\"author\": \"Celestia Starlight\", \"date\": \"1635\"} Input sentence: In the realm of cosmic inquiry, Astrologer Orion deciphered the celestial script within 'Stellar Prophecies' written by Celestia Starlight in the astral year of 1635. --- Output: {\"author\": \"Astrologer Orion\", \"date\": \"1635\"}\n"
     ]
    },
    {
     "name": "stderr",
     "output_type": "stream",
     "text": [
      " 23%|██▎       | 12/52 [00:23<01:19,  1.98s/it]Setting `pad_token_id` to `eos_token_id`:2 for open-end generation.\n"
     ]
    },
    {
     "name": "stdout",
     "output_type": "stream",
     "text": [
      "Correct:  {\"author\": \"Eleanor the Wise\", \"date\": \"1268\"} Input sentence: Captivated by the medieval tapestry, Scribe Benedict transcribed the wisdom of 'Ink and Parchment' by Eleanor the Wise in the year 1268.Captivated by the medieval tapestry, Scribe Benedict transcribed the wisdom of 'Ink and Parchment' by Eleanor the Wise in the year 1268. --- Output: {\"author\": \"Eleanor the Wise\", \"date\": \"1268\"}\n"
     ]
    },
    {
     "name": "stderr",
     "output_type": "stream",
     "text": [
      " 25%|██▌       | 13/52 [00:25<01:16,  1.97s/it]Setting `pad_token_id` to `eos_token_id`:2 for open-end generation.\n"
     ]
    },
    {
     "name": "stdout",
     "output_type": "stream",
     "text": [
      "Incorrect:  {\"author\": \"Artisan Victor\", \"date\": \"1995\"} Input sentence: Surrounded by the vibrant colors of the art studio, Painter Esmeralda drew inspiration from 'Canvas Dreams' painted by Artisan Victor in the year 1995. --- Output: {\"author\": \"Painter Esmeralda\", \"date\": \"1995\"}\n"
     ]
    },
    {
     "name": "stderr",
     "output_type": "stream",
     "text": [
      " 27%|██▋       | 14/52 [00:27<01:11,  1.88s/it]Setting `pad_token_id` to `eos_token_id`:2 for open-end generation.\n"
     ]
    },
    {
     "name": "stdout",
     "output_type": "stream",
     "text": [
      "Incorrect:  {\"author\": \"Melody Maestro\", \"date\": \"1925\"} Input sentence: Amidst the echoes of jazz, Musician Jazzmine found harmony in 'Rhythmic Reverie' composed by Melody Maestro in the jazzy year of 1925.Amidst the echoes of jazz, Musician Jazzmine found harmony in 'Rhythmic Reverie' composed by Melody Maestro in the jazzy year of 1925. --- Output: {\"author\": \"Jazzmine\", \"date\": \"1925\"}\n"
     ]
    },
    {
     "name": "stderr",
     "output_type": "stream",
     "text": [
      " 29%|██▉       | 15/52 [00:28<01:08,  1.86s/it]Setting `pad_token_id` to `eos_token_id`:2 for open-end generation.\n"
     ]
    },
    {
     "name": "stdout",
     "output_type": "stream",
     "text": [
      "Incorrect:  {\"author\": \"Lily Bloom\", \"date\": \"1902\"} Input sentence: In the serenity of the botanical garden, Botanist Flora unearthed the secrets of 'Floral Symphony' written by Lily Bloom in the blooming year of 1902. --- Output: {\"author\": \"Botanist Flora\", \"date\": \"1902\"}\n"
     ]
    },
    {
     "name": "stderr",
     "output_type": "stream",
     "text": [
      " 31%|███       | 16/52 [00:30<01:04,  1.79s/it]Setting `pad_token_id` to `eos_token_id`:2 for open-end generation.\n"
     ]
    },
    {
     "name": "stdout",
     "output_type": "stream",
     "text": [
      "Incorrect:  {\"author\": \"Max Planck\", \"date\": \"1900\"} Input sentence: Lost in the labyrinth of quantum physics, Physicist Quantum Q explored 'Quantum Quandaries' by Max Planck, a theoretical masterpiece from the revolutionary year of 1900. --- Output: {\"author\": \"Quantum Q\", \"date\": \"1900\"}\n"
     ]
    },
    {
     "name": "stderr",
     "output_type": "stream",
     "text": [
      " 33%|███▎      | 17/52 [00:32<01:02,  1.80s/it]Setting `pad_token_id` to `eos_token_id`:2 for open-end generation.\n"
     ]
    },
    {
     "name": "stdout",
     "output_type": "stream",
     "text": [
      "Correct:  {\"author\": \"Jazz Jester\", \"date\": \"1928\"} Input sentence: In the heart of the jazz age, Flapper Zelda danced through the pages of 'Roaring Rhythms' by Jazz Jester in the lively year of 1928.In the heart of the jazz age, Flapper Zelda danced through the pages of 'Roaring Rhythms' by Jazz Jester in the lively year of 1928. --- Output: {\"author\": \"Jazz Jester\", \"date\": \"1928\"}\n"
     ]
    },
    {
     "name": "stderr",
     "output_type": "stream",
     "text": [
      " 35%|███▍      | 18/52 [00:34<01:03,  1.87s/it]Setting `pad_token_id` to `eos_token_id`:2 for open-end generation.\n"
     ]
    },
    {
     "name": "stdout",
     "output_type": "stream",
     "text": [
      "Incorrect:  {\"author\": \"Aether Sage\", \"date\": \"N/A\"} Input sentence: Among the scrolls of ancient mysticism, Mystic Sylas deciphered 'Arcane Chronicles' by Aether Sage, a mystical manuscript from the ancient year of 500 B.C. --- Output: {\"author\": \"Mystic Sylas\", \"date\": \"500 B.C\"}\n"
     ]
    },
    {
     "name": "stderr",
     "output_type": "stream",
     "text": [
      " 37%|███▋      | 19/52 [00:36<01:02,  1.90s/it]Setting `pad_token_id` to `eos_token_id`:2 for open-end generation.\n"
     ]
    },
    {
     "name": "stdout",
     "output_type": "stream",
     "text": [
      "Incorrect:  {\"author\": \"Lyric Loresong\", \"date\": \"1456\"} Input sentence: Within the enigmatic realms of fantasy, Elf Bard Elowen discovered 'Epic Ballads' written by Lyric Loresong in the fantastical year of 1456.Within the enigmatic realms of fantasy, Elf Bard Elowen discovered 'Epic Ballads' written by Lyric Loresong in the fantastical year of 1456. --- Output: {\"author\": \"Elf Bard Elowen\", \"date\": \"1456\"}\n"
     ]
    },
    {
     "name": "stderr",
     "output_type": "stream",
     "text": [
      " 38%|███▊      | 20/52 [00:38<00:58,  1.83s/it]Setting `pad_token_id` to `eos_token_id`:2 for open-end generation.\n"
     ]
    },
    {
     "name": "stdout",
     "output_type": "stream",
     "text": [
      "Incorrect:  {\"author\": \"Shutter Sage\", \"date\": \"2016\"} Input sentence: As the sun dipped below the horizon, Photographer Luna captured the essence of 'Golden Hours' by Shutter Sage in the luminous year of 2016.As the sun dipped below the horizon, Photographer Luna captured the essence of 'Golden Hours' by Shutter Sage in the luminous year of 2016. --- Output: {\"author\": \"Luna\", \"date\": \"2016\"}\n"
     ]
    },
    {
     "name": "stderr",
     "output_type": "stream",
     "text": [
      " 40%|████      | 21/52 [00:39<00:54,  1.77s/it]Setting `pad_token_id` to `eos_token_id`:2 for open-end generation.\n"
     ]
    },
    {
     "name": "stdout",
     "output_type": "stream",
     "text": [
      "Incorrect:  {\"author\": \"Gear Genius\", \"date\": \"1865\"} Input sentence: In the bustling streets of the industrial revolution, Engineer Victor marveled at the ingenuity of 'Steam Dreams' by Gear Genius in the transformative year of 1865. --- Output: {\"author\": \"Engineer Victor\", \"date\": \"1865\"}\n"
     ]
    },
    {
     "name": "stderr",
     "output_type": "stream",
     "text": [
      " 42%|████▏     | 22/52 [00:42<01:06,  2.22s/it]Setting `pad_token_id` to `eos_token_id`:2 for open-end generation.\n"
     ]
    },
    {
     "name": "stdout",
     "output_type": "stream",
     "text": [
      "Incorrect:  {\"author\": \"Isabella\", \"date\": \"N/A\"} Input sentence: In a quaint village nestled between emerald hills, renowned author Isabella weaves tales that transport readers to magical realms.In a quaint village nestled between emerald hills, renowned author Isabella weaves tales that transport readers to magical realms. --- Output: {\"author\": \"Isabella\", \"place\": \"a quaint village\", \"hills\": \"emerald\", \"tales\": \"transport readers to magical realms\"}\n"
     ]
    },
    {
     "name": "stderr",
     "output_type": "stream",
     "text": [
      " 44%|████▍     | 23/52 [00:44<00:57,  1.98s/it]Setting `pad_token_id` to `eos_token_id`:2 for open-end generation.\n"
     ]
    },
    {
     "name": "stdout",
     "output_type": "stream",
     "text": [
      "Correct:  {\"author\": \"Alexander\", \"date\": \"N/A\"} Input sentence: Alexander, with his vast knowledge of ancient civilizations, deciphers the cryptic symbols on an ancient artifact, unlocking secrets lost to time. --- Output: {\"author\": \"Alexander\", \"date\": \"N/A\"}\n"
     ]
    },
    {
     "name": "stderr",
     "output_type": "stream",
     "text": [
      " 46%|████▌     | 24/52 [00:45<00:51,  1.84s/it]Setting `pad_token_id` to `eos_token_id`:2 for open-end generation.\n"
     ]
    },
    {
     "name": "stdout",
     "output_type": "stream",
     "text": [
      "Incorrect:  {\"author\": \"Celeste\", \"date\": \"N/A\"} Input sentence: Amidst the bustling streets of Paris, Artist Celeste captures the essence of romance on canvas, creating timeless masterpieces that resonate with the soul. --- Output: {\"author\": \"N/A\", \"date\": \"N/A\"}\n"
     ]
    },
    {
     "name": "stderr",
     "output_type": "stream",
     "text": [
      " 48%|████▊     | 25/52 [00:47<00:48,  1.80s/it]Setting `pad_token_id` to `eos_token_id`:2 for open-end generation.\n"
     ]
    },
    {
     "name": "stdout",
     "output_type": "stream",
     "text": [
      "Correct:  {\"author\": \"Benjamin Kissinger\", \"date\": \"1605\"} Input sentence: A comprehensive research paper from Benjamin Kissinger details seafaring advancements, published in 1605, is a very good analysis.A comprehensive research paper from Benjamin Kissinger details seafaring advancements, published in 1605, is a very good analysis. --- Output: {\"author\": \"Benjamin Kissinger\", \"date\": \"1605\"}\n"
     ]
    },
    {
     "name": "stderr",
     "output_type": "stream",
     "text": [
      " 50%|█████     | 26/52 [00:49<00:46,  1.79s/it]Setting `pad_token_id` to `eos_token_id`:2 for open-end generation.\n"
     ]
    },
    {
     "name": "stdout",
     "output_type": "stream",
     "text": [
      "Correct:  {\"author\": \"David Doebele\", \"date\": \"2005\"} Input sentence: David Doebele is an entrepreneur and supports start-ups. In his poetry, written on a summer morning in 2005, reflecting on nature's splendor. --- Output: {\"author\": \"David Doebele\", \"date\": \"2005\"}\n"
     ]
    },
    {
     "name": "stderr",
     "output_type": "stream",
     "text": [
      " 52%|█████▏    | 27/52 [00:51<00:44,  1.79s/it]Setting `pad_token_id` to `eos_token_id`:2 for open-end generation.\n"
     ]
    },
    {
     "name": "stdout",
     "output_type": "stream",
     "text": [
      "Correct:  {\"author\": \"David Doebele\", \"date\": \"2005\"} Input sentence: David Doebele is an entrepreneur and supports start-ups. In his poetry, written on a summer morning in 2005, reflecting on nature's splendor. --- Output: {\"author\": \"David Doebele\", \"date\": \"2005\"}\n"
     ]
    },
    {
     "name": "stderr",
     "output_type": "stream",
     "text": [
      " 54%|█████▍    | 28/52 [00:52<00:43,  1.80s/it]Setting `pad_token_id` to `eos_token_id`:2 for open-end generation.\n"
     ]
    },
    {
     "name": "stdout",
     "output_type": "stream",
     "text": [
      "Correct:  {\"author\": \"Ahmad Mohammad\", \"date\": \"2005\"} Input sentence: The most read book in 2020 was 'Hello my friend' by Ahmad Mohammad. One of the most prevalent topics in this book is the life of Xi Jinping. The author wrote this book in 2005, but it only caught the attention of the public in 2017. --- Output: {\"author\": \"Ahmad Mohammad\", \"date\": \"2005\"}\n"
     ]
    },
    {
     "name": "stderr",
     "output_type": "stream",
     "text": [
      " 56%|█████▌    | 29/52 [00:54<00:40,  1.75s/it]Setting `pad_token_id` to `eos_token_id`:2 for open-end generation.\n"
     ]
    },
    {
     "name": "stdout",
     "output_type": "stream",
     "text": [
      "Correct:  {\"author\": \"Andrew Tate\", \"date\": \"N/A\"} Input sentence: 'Breathe air' is probably the most known quote of the once most-googled human on the planet: Andrew Tate. He is renowned for his masculinity and mindset and tells young men to focus on their health and family. In his book 'Breathe Air' he mentions his ideas and explains his history. --- Output: {\"author\": \"Andrew Tate\", \"date\": \"N/A\"}\n"
     ]
    },
    {
     "name": "stderr",
     "output_type": "stream",
     "text": [
      " 58%|█████▊    | 30/52 [00:56<00:38,  1.73s/it]Setting `pad_token_id` to `eos_token_id`:2 for open-end generation.\n"
     ]
    },
    {
     "name": "stdout",
     "output_type": "stream",
     "text": [
      "Incorrect:  {\"author\": \"Cole Bennett\", \"date\": \"N/A\"} Input sentence: In 2020, I was in a very bad situation and my life was going downhill, until I decided to read the book 'What to do in life' by Cole Bennett. This, as Greta Thunberg said in 2018: 'changed my life'. --- Output: {\"author\": \"Cole Bennett\", \"date\": \"2020\"}\n"
     ]
    },
    {
     "name": "stderr",
     "output_type": "stream",
     "text": [
      " 60%|█████▉    | 31/52 [00:58<00:37,  1.77s/it]Setting `pad_token_id` to `eos_token_id`:2 for open-end generation.\n"
     ]
    },
    {
     "name": "stdout",
     "output_type": "stream",
     "text": [
      "Correct:  {\"author\": \"David Doebele\", \"date\": \"2023\"} Input sentence: David Doebele is an architect and supports start-ups. In his book, written in 2023, he mentions his Project 'pumpkincareers' and helps young people. --- Output: {\"author\": \"David Doebele\", \"date\": \"2023\"}\n"
     ]
    },
    {
     "name": "stderr",
     "output_type": "stream",
     "text": [
      " 62%|██████▏   | 32/52 [00:59<00:34,  1.74s/it]Setting `pad_token_id` to `eos_token_id`:2 for open-end generation.\n"
     ]
    },
    {
     "name": "stdout",
     "output_type": "stream",
     "text": [
      "Correct:  {\"author\": \"David Doebele\", \"date\": \"2005\"} Input sentence: David Doebele is an entrepreneur and supports start-ups. In his poetry, written on a summer morning in 2005, reflecting on nature's splendor. --- Output: {\"author\": \"David Doebele\", \"date\": \"2005\"}\n"
     ]
    },
    {
     "name": "stderr",
     "output_type": "stream",
     "text": [
      " 63%|██████▎   | 33/52 [01:01<00:32,  1.69s/it]Setting `pad_token_id` to `eos_token_id`:2 for open-end generation.\n"
     ]
    },
    {
     "name": "stdout",
     "output_type": "stream",
     "text": [
      "Incorrect:  {\"author\": \"Andrew Turner\", \"date\": \"2018\"} Input sentence: In the midst of the tumultuous year 2020, Emily Turner discovered solace in 'Eternal Echoes,' written by Andrew Turner in 2018. James finally delved into its echoes in 2021. Andrew's perspectives became a guiding light for James, shaping his aspirations and prompting him to abandon past interests. --- Output: {\"author\": \"Emily Turner\", \"date\": \"2020\"}\n"
     ]
    },
    {
     "name": "stderr",
     "output_type": "stream",
     "text": [
      " 65%|██████▌   | 34/52 [01:03<00:30,  1.67s/it]Setting `pad_token_id` to `eos_token_id`:2 for open-end generation.\n"
     ]
    },
    {
     "name": "stdout",
     "output_type": "stream",
     "text": [
      "Incorrect:  {\"author\": \"Olivia Harper\", \"date\": \"2015\"} Input sentence: Reflecting on the challenges of 2017, Michael Harper found inspiration in 'Whispers of Wisdom,' penned by Olivia Harper in 2015. Sophia immersed herself in its whispers in 2019. Olivia's wisdom became a driving force for Sophia, influencing her growth and prompting her to let go of former hobbies. --- Output: {\"author\": \"Michael Harper\", \"date\": \"2017\"}\n"
     ]
    },
    {
     "name": "stderr",
     "output_type": "stream",
     "text": [
      " 67%|██████▋   | 35/52 [01:04<00:28,  1.66s/it]Setting `pad_token_id` to `eos_token_id`:2 for open-end generation.\n"
     ]
    },
    {
     "name": "stdout",
     "output_type": "stream",
     "text": [
      "Incorrect:  {\"author\": \"Benjamin Evans\", \"date\": \"2012\"} Input sentence: During the transformative year of 2014, Rachel Bennett discovered 'Uncharted Realms,' authored by Benjamin Evans in 2012. Ethan finally explored its realms in 2016. Benjamin's insights sparked a transformative journey for Ethan, shaping his perspectives and leading to the abandonment of previous pursuits. --- Output: {\"author\": \"Rachel Bennett\", \"date\": \"2014\"}\n"
     ]
    },
    {
     "name": "stderr",
     "output_type": "stream",
     "text": [
      " 69%|██████▉   | 36/52 [01:06<00:26,  1.68s/it]Setting `pad_token_id` to `eos_token_id`:2 for open-end generation.\n"
     ]
    },
    {
     "name": "stdout",
     "output_type": "stream",
     "text": [
      "Correct:  {\"author\": \"N/A\", \"date\": \"2008\"} Input sentence: A short story crafted on a summer afternoon in 2008, reflecting on the magic of imagination.A short story crafted on a summer afternoon in 2008, reflecting on the magic of imagination. --- Output: {\"author\": \"N/A\", \"date\": \"2008\"}\n"
     ]
    },
    {
     "name": "stderr",
     "output_type": "stream",
     "text": [
      " 71%|███████   | 37/52 [01:08<00:25,  1.68s/it]Setting `pad_token_id` to `eos_token_id`:2 for open-end generation.\n"
     ]
    },
    {
     "name": "stdout",
     "output_type": "stream",
     "text": [
      "Incorrect:  {\"author\": \"Emma Ward\", \"date\": \"2019\"} Input sentence: Amidst the challenges of 2021, Alexander Ward found encouragement in 'Harmony Within,' written by Emma Ward in 2019. Olivia immersed herself in its pages in 2022. Emma's insights became a guiding force for Olivia, shaping her aspirations and prompting her to relinquish past interests. --- Output: {\"author\": \"Alexander Ward\", \"date\": \"2021\"}\n"
     ]
    },
    {
     "name": "stderr",
     "output_type": "stream",
     "text": [
      " 73%|███████▎  | 38/52 [01:09<00:23,  1.69s/it]Setting `pad_token_id` to `eos_token_id`:2 for open-end generation.\n"
     ]
    },
    {
     "name": "stdout",
     "output_type": "stream",
     "text": [
      "Incorrect:  {\"author\": \"Nathan Thompson\", \"date\": \"2016\"} Input sentence: In 2018, during a season of reflection, Sarah Thompson discovered 'Limitless Visions,' authored by Nathan Thompson in 2016. Daniel finally delved into its visions in 2019. Nathan's wisdom became a source of inspiration for Daniel, influencing his journey and prompting him to let go of former pastimes. --- Output: {\"author\": \"Sarah Thompson\", \"date\": \"2018\"}\n"
     ]
    },
    {
     "name": "stderr",
     "output_type": "stream",
     "text": [
      " 75%|███████▌  | 39/52 [01:11<00:21,  1.65s/it]Setting `pad_token_id` to `eos_token_id`:2 for open-end generation.\n"
     ]
    },
    {
     "name": "stdout",
     "output_type": "stream",
     "text": [
      "Correct:  {\"author\": \"N/A\", \"date\": \"2013\"} Input sentence: A scientific paper published in the fall of 2013 outlines breakthroughs in environmental science.A scientific paper published in the fall of 2013 outlines breakthroughs in environmental science. --- Output: {\"author\": \"N/A\", \"date\": \"2013\"}\n"
     ]
    },
    {
     "name": "stderr",
     "output_type": "stream",
     "text": [
      " 77%|███████▋  | 40/52 [01:13<00:20,  1.68s/it]Setting `pad_token_id` to `eos_token_id`:2 for open-end generation.\n"
     ]
    },
    {
     "name": "stdout",
     "output_type": "stream",
     "text": [
      "Incorrect:  {\"author\": \"Emely Simmons\", \"date\": \"2018\"} Input sentence: Amidst the challenges of 2020, Matthew Simmons found encouragement in 'Serenity Unveiled,' penned by Emily Simmons in 2018. Sophia immersed herself in its pages in 2021. Emily's perspectives became a driving force for Sophia, shaping her goals and prompting her to let go of past hobbies. --- Output: {\"author\": \"Matthew Simmons\", \"date\": \"2020\"}\n"
     ]
    },
    {
     "name": "stderr",
     "output_type": "stream",
     "text": [
      " 79%|███████▉  | 41/52 [01:14<00:18,  1.67s/it]Setting `pad_token_id` to `eos_token_id`:2 for open-end generation.\n"
     ]
    },
    {
     "name": "stdout",
     "output_type": "stream",
     "text": [
      "Incorrect:  {\"author\": \"Jonathan Reynolds\", \"date\": \"2015\"} Input sentence: In 2017, during a season of reflection, Laura Reynolds discovered 'Boundless Discoveries,' crafted by Jonathan Reynolds in 2015. Daniel finally explored its discoveries in 2018. Jonathan's abysses sparked a transformative journey for Daniel, influencing his exploration and leading to the abandonment of former pursuits. --- Output: {\"author\": \"Laura Reynolds\", \"date\": \"2017\"}\n"
     ]
    },
    {
     "name": "stderr",
     "output_type": "stream",
     "text": [
      " 81%|████████  | 42/52 [01:16<00:16,  1.67s/it]Setting `pad_token_id` to `eos_token_id`:2 for open-end generation.\n"
     ]
    },
    {
     "name": "stdout",
     "output_type": "stream",
     "text": [
      "Correct:  {\"author\": \"Elizabeth Turner\", \"date\": \"2016\"} Input sentence: A research article on sustainable agriculture, authored by Elizabeth Turner in 2016, discusses innovative practices.A research article on sustainable agriculture, authored by Elizabeth Turner in 2016, discusses innovative practices. --- Output: {\"author\": \"Elizabeth Turner\", \"date\": \"2016\"}\n"
     ]
    },
    {
     "name": "stderr",
     "output_type": "stream",
     "text": [
      " 83%|████████▎ | 43/52 [01:18<00:15,  1.68s/it]Setting `pad_token_id` to `eos_token_id`:2 for open-end generation.\n"
     ]
    },
    {
     "name": "stdout",
     "output_type": "stream",
     "text": [
      "Incorrect:  {\"author\": \"Emma Harrison\", \"date\": \"2016\"} Input sentence: Amidst the challenges of 2018, Benjamin Harrison found encouragement in 'Harmony Within,' written by Emma Harrison in 2016. Sophia immersed herself in its pages in 2019. Emma's insights became a guiding force for Sophia, shaping her aspirations and prompting her to relinquish past interests. --- Output: {\"author\": \"Benjamin Harrison\", \"date\": \"2018\"}\n"
     ]
    },
    {
     "name": "stderr",
     "output_type": "stream",
     "text": [
      " 85%|████████▍ | 44/52 [01:19<00:13,  1.68s/it]Setting `pad_token_id` to `eos_token_id`:2 for open-end generation.\n"
     ]
    },
    {
     "name": "stdout",
     "output_type": "stream",
     "text": [
      "Incorrect:  {\"author\": \"Nathan Thompson\", \"date\": \"2014\"} Input sentence: In 2016, during a period of introspection, Jessica Thompson discovered 'Limitless Visions,' authored by Nathan Thompson in 2014. Ethan finally delved into its visions in 2017. Nathan's wisdom became a source of inspiration for Ethan, influencing his journey and prompting him to let go of former pastimes. --- Output: {\"author\": \"Jessica Thompson\", \"date\": \"2016\"}\n"
     ]
    },
    {
     "name": "stderr",
     "output_type": "stream",
     "text": [
      " 87%|████████▋ | 45/52 [01:21<00:11,  1.66s/it]Setting `pad_token_id` to `eos_token_id`:2 for open-end generation.\n"
     ]
    },
    {
     "name": "stdout",
     "output_type": "stream",
     "text": [
      "Correct:  {\"author\": \"N/A\", \"date\": \"2010\"} Input sentence: A short story crafted on a rainy evening in 2010, reflecting on the beauty of simplicity.A short story crafted on a rainy evening in 2010, reflecting on the beauty of simplicity. --- Output: {\"author\": \"N/A\", \"date\": \"2010\"}\n"
     ]
    },
    {
     "name": "stderr",
     "output_type": "stream",
     "text": [
      " 88%|████████▊ | 46/52 [01:23<00:10,  1.68s/it]Setting `pad_token_id` to `eos_token_id`:2 for open-end generation.\n"
     ]
    },
    {
     "name": "stdout",
     "output_type": "stream",
     "text": [
      "Incorrect:  {\"author\": \"Emily Turner\", \"date\": \"2021\"} Input sentence: Amidst the challenges of 2023, Natalie Turner found encouragement in 'Serenity Unveiled,' penned by Emily Turner in 2021. James immersed himself in its pages in 2024. Emily's perspectives became a driving force for James, shaping his goals and prompting him to let go of past hobbies. --- Output: {\"author\": \"Natalie Turner\", \"date\": \"2023\"}\n"
     ]
    },
    {
     "name": "stderr",
     "output_type": "stream",
     "text": [
      " 90%|█████████ | 47/52 [01:24<00:08,  1.66s/it]Setting `pad_token_id` to `eos_token_id`:2 for open-end generation.\n"
     ]
    },
    {
     "name": "stdout",
     "output_type": "stream",
     "text": [
      "Incorrect:  {\"author\": \"Jonathan Bennett\", \"date\": \"2018\"} Input sentence: In 2020, during a period of introspection, Samuel Bennett discovered 'Boundless Discoveries,' crafted by Jonathan Bennett in 2018. Olivia finally explored its discoveries in 2021. Jonathan's abysses sparked a transformative journey for Olivia, influencing her exploration and leading to the abandonment of former pursuits. --- Output: {\"author\": \"Samuel Bennett\", \"date\": \"2020\"}\n"
     ]
    },
    {
     "name": "stderr",
     "output_type": "stream",
     "text": [
      " 92%|█████████▏| 48/52 [01:26<00:06,  1.65s/it]Setting `pad_token_id` to `eos_token_id`:2 for open-end generation.\n"
     ]
    },
    {
     "name": "stdout",
     "output_type": "stream",
     "text": [
      "Correct:  {\"author\": \"Elizabeth Turner\", \"date\": \"2018\"} Input sentence: A research article on renewable energy, authored by Elizabeth Turner in 2018, discusses innovative technologies.A research article on renewable energy, authored by Elizabeth Turner in 2018, discusses innovative technologies. --- Output: {\"author\": \"Elizabeth Turner\", \"date\": \"2018\"}\n"
     ]
    },
    {
     "name": "stderr",
     "output_type": "stream",
     "text": [
      " 94%|█████████▍| 49/52 [01:27<00:04,  1.63s/it]Setting `pad_token_id` to `eos_token_id`:2 for open-end generation.\n"
     ]
    },
    {
     "name": "stdout",
     "output_type": "stream",
     "text": [
      "Incorrect:  {\"author\": \"Emma Harrison\", \"date\": \"2020\"} Input sentence: Amidst the challenges of 2022, Lucas Harrison found encouragement in 'Harmony Within,' penned by Emma Harrison in 2020. Sophia immersed herself in its pages in 2023. Emma's insights became a guiding force for Sophia, shaping her aspirations and prompting her to relinquish past interests. --- Output: {\"author\": \"Lucas Harrison\", \"date\": \"2022\"}\n"
     ]
    },
    {
     "name": "stderr",
     "output_type": "stream",
     "text": [
      " 96%|█████████▌| 50/52 [01:29<00:03,  1.66s/it]Setting `pad_token_id` to `eos_token_id`:2 for open-end generation.\n"
     ]
    },
    {
     "name": "stdout",
     "output_type": "stream",
     "text": [
      "Incorrect:  {\"author\": \"Benjamin Robinson\", \"date\": \"2017\"} Input sentence: In 2019, during a season of reflection, Daniel Robinson discovered 'Uncharted Realms,' authored by Benjamin Robinson in 2017. Sophia finally explored its realms in 2020. Benjamin's insights sparked a transformative journey for Sophia, shaping her perspectives and leading to the abandonment of previous pursuits. --- Output: {\"author\": \"Daniel Robinson\", \"date\": \"2019\"}\n"
     ]
    },
    {
     "name": "stderr",
     "output_type": "stream",
     "text": [
      " 98%|█████████▊| 51/52 [01:31<00:01,  1.66s/it]Setting `pad_token_id` to `eos_token_id`:2 for open-end generation.\n"
     ]
    },
    {
     "name": "stdout",
     "output_type": "stream",
     "text": [
      "Correct:  {\"author\": \"N/A\", \"date\": \"2015\"} Input sentence: A short story crafted on a winter evening in 2015, reflecting on the joy of childhood.A short story crafted on a winter evening in 2015, reflecting on the joy of childhood. --- Output: {\"author\": \"N/A\", \"date\": \"2015\"}\n"
     ]
    },
    {
     "name": "stderr",
     "output_type": "stream",
     "text": [
      "100%|██████████| 52/52 [01:33<00:00,  1.79s/it]"
     ]
    },
    {
     "name": "stdout",
     "output_type": "stream",
     "text": [
      "Incorrect:  {\"author\": \"Emily Turner\", \"date\": \"2019\"} Input sentence: Amidst the challenges of 2021, Abigail Turner found encouragement in 'Serenity Unveiled,' written by Emily Turner in 2019. James immersed himself in its pages in 2022. Emily's perspectives became a driving force for James, shaping his goals and prompting him to let go of past hobbies. --- Output: {\"author\": \"Abigail Turner\", \"date\": \"2021\"}\n",
      "Accuracy: 0.36538461538461536\n"
     ]
    },
    {
     "name": "stderr",
     "output_type": "stream",
     "text": [
      "\n"
     ]
    }
   ],
   "source": [
    "from tqdm import tqdm\n",
    "\n",
    "answer = \"\"\n",
    "prompt_template = 'Input sentence: {} --- Output:'\n",
    "\n",
    "ft_model.eval()\n",
    "for row in tqdm(dataset):\n",
    "    if len(row[\"prompt\"]) > 140:\n",
    "      model_input = tokenizer(prompt_template.format(row[\"prompt\"]), return_tensors=\"pt\").to(\"cuda\")\n",
    "    else:\n",
    "      model_input = tokenizer(prompt_template.format(row[\"prompt\"]+row[\"prompt\"]), return_tensors=\"pt\").to(\"cuda\")\n",
    "    with torch.no_grad():\n",
    "        x = tokenizer.decode(ft_model.generate(**model_input, max_new_tokens=150)[0], skip_special_tokens=True)\n",
    "        if row[\"response\"] in x:\n",
    "            print(\"Correct: \", row[\"response\"], x)\n",
    "            amount_correct += 1\n",
    "        else:\n",
    "            print(\"Incorrect: \", row[\"response\"], x)\n",
    "\n",
    "print(\"Accuracy: \" + str(amount_correct / amount_examples))"
   ]
  },
  {
   "cell_type": "code",
   "execution_count": null,
   "metadata": {},
   "outputs": [],
   "source": []
  }
 ],
 "metadata": {
  "kernelspec": {
   "display_name": "Python 3",
   "language": "python",
   "name": "python3"
  },
  "language_info": {
   "codemirror_mode": {
    "name": "ipython",
    "version": 3
   },
   "file_extension": ".py",
   "mimetype": "text/x-python",
   "name": "python",
   "nbconvert_exporter": "python",
   "pygments_lexer": "ipython3",
   "version": "3.11.5"
  }
 },
 "nbformat": 4,
 "nbformat_minor": 2
}
